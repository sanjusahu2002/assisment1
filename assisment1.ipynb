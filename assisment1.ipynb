{
 "cells": [
  {
   "cell_type": "code",
   "execution_count": 12,
   "id": "ef60ff08-28fd-4707-8959-4024b9b6cddf",
   "metadata": {},
   "outputs": [
    {
     "name": "stdout",
     "output_type": "stream",
     "text": [
      "<class 'str'>\n",
      "<class 'list'>\n",
      "<class 'float'>\n",
      "<class 'tuple'>\n"
     ]
    }
   ],
   "source": [
    "# Q1 create of variable containing string,list,float and typle date type ?\n",
    "var1 = \"this is my first assisment \"\n",
    "var2 = [\"name \" ,23,32, 43.2,23+3j]\n",
    "var3 = 34.43\n",
    "var4 = (23,43,34)\n",
    "print(type(var1))\n",
    "print(type(var2))\n",
    "print(type(var3))\n",
    "print(type(var4))\n"
   ]
  },
  {
   "cell_type": "code",
   "execution_count": 18,
   "id": "3adac1c4-5330-4078-8646-62c2892866be",
   "metadata": {},
   "outputs": [
    {
     "name": "stdout",
     "output_type": "stream",
     "text": [
      "<class 'str'>\n",
      "<class 'str'>\n",
      "<class 'list'>\n",
      "<class 'float'>\n"
     ]
    }
   ],
   "source": [
    "# Q2 Data type of given variable containing data ? \n",
    "var_1 =''\n",
    "var_2 = '[ds,ml , python]'\n",
    "var_3 = [ 'ds','ml' , 'python']\n",
    "var_4 = 1.\n",
    "print(type(var_1))\n",
    "print(type(var_2))\n",
    "print(type(var_3))\n",
    "print(type(var_4))"
   ]
  },
  {
   "cell_type": "code",
   "execution_count": 20,
   "id": "b5d1d1da-add3-48a7-a98e-211673ea2b56",
   "metadata": {},
   "outputs": [
    {
     "data": {
      "text/plain": [
       "2.5"
      ]
     },
     "execution_count": 20,
     "metadata": {},
     "output_type": "execute_result"
    }
   ],
   "source": [
    "# Q3 Use of following operator /, %, // and ** ?\n",
    "5/2 # / this is divide operator use for divide"
   ]
  },
  {
   "cell_type": "code",
   "execution_count": 22,
   "id": "9f43be64-6fe9-4505-a4a1-b636bc634617",
   "metadata": {},
   "outputs": [
    {
     "data": {
      "text/plain": [
       "1"
      ]
     },
     "execution_count": 22,
     "metadata": {},
     "output_type": "execute_result"
    }
   ],
   "source": [
    "5%2 # % this is modulus operator use to print remainder"
   ]
  },
  {
   "cell_type": "code",
   "execution_count": 24,
   "id": "2ba78dc9-9193-4c75-b16c-d30ea6b4a642",
   "metadata": {},
   "outputs": [
    {
     "data": {
      "text/plain": [
       "2"
      ]
     },
     "execution_count": 24,
     "metadata": {},
     "output_type": "execute_result"
    }
   ],
   "source": [
    "5//2 # // this operator only show quotient doesn't show remainder "
   ]
  },
  {
   "cell_type": "code",
   "execution_count": 26,
   "id": "7759999f-fbc0-41b0-aa09-98234d9720f6",
   "metadata": {},
   "outputs": [
    {
     "data": {
      "text/plain": [
       "16"
      ]
     },
     "execution_count": 26,
     "metadata": {},
     "output_type": "execute_result"
    }
   ],
   "source": [
    "2**4 # ** this is power operator ."
   ]
  },
  {
   "cell_type": "code",
   "execution_count": 25,
   "id": "820bd777-72d4-4ce9-9632-6d4fbf39ac8a",
   "metadata": {},
   "outputs": [
    {
     "name": "stdout",
     "output_type": "stream",
     "text": [
      "1 <class 'int'>\n",
      "23 <class 'int'>\n",
      "address <class 'str'>\n",
      "name <class 'str'>\n",
      "34.43 <class 'float'>\n",
      "(34+5j) <class 'complex'>\n",
      "34 <class 'int'>\n",
      "792384748 <class 'str'>\n",
      "pwskill <class 'str'>\n",
      "id <class 'str'>\n"
     ]
    }
   ],
   "source": [
    "# Q4 Creating a list of multiple types of data. Using for loop print the element and its date type ?\n",
    "list = [1,23,\"address\",\"name\",34.43,34+5j,34,'792384748',\"pwskill\",\"id\"]\n",
    "for i in list:\n",
    "    print(i ,type(i))"
   ]
  },
  {
   "cell_type": "code",
   "execution_count": 1,
   "id": "b0dfa7fb-22e6-4763-ba7f-4696eaa20151",
   "metadata": {},
   "outputs": [
    {
     "name": "stdin",
     "output_type": "stream",
     "text": [
      "Divident =  5\n",
      "Divisor =  2\n"
     ]
    },
    {
     "name": "stdout",
     "output_type": "stream",
     "text": [
      "number is not completely divided\n"
     ]
    }
   ],
   "source": [
    "# Q5 Using a while loop varify the number a is purely divisible by number i and if so then how many times it can be divisible.\n",
    "a = int(input(\"Divident = \")) \n",
    "i = int(input(\"Divisor = \")) \n",
    "while i<=a:\n",
    "    if a%i==0:\n",
    "        print(\" number is purely divided by = \",i)\n",
    "        b = a//i\n",
    "        print(\"how many times it can be divisible =\",b)\n",
    "        break;\n",
    "    else:\n",
    "        print(\"number is not completely divided\")\n",
    "        break;\n",
    "    "
   ]
  },
  {
   "cell_type": "code",
   "execution_count": 26,
   "id": "25368b2f-83c4-4b7d-a0db-3f430e574675",
   "metadata": {},
   "outputs": [
    {
     "name": "stdout",
     "output_type": "stream",
     "text": [
      "number of elements in list =  25\n",
      "23  is not divisible by 3\n",
      "43  is not divisible by 3\n",
      "53  is not divisible by 3\n",
      "53  is not divisible by 3\n",
      "12 is divisible by 3\n",
      "53  is not divisible by 3\n",
      "63 is divisible by 3\n",
      "43  is not divisible by 3\n",
      "53  is not divisible by 3\n",
      "23  is not divisible by 3\n",
      "63 is divisible by 3\n",
      "64  is not divisible by 3\n",
      "64  is not divisible by 3\n",
      "34  is not divisible by 3\n",
      "63 is divisible by 3\n",
      "64  is not divisible by 3\n",
      "78 is divisible by 3\n",
      "89  is not divisible by 3\n",
      "75 is divisible by 3\n",
      "634  is not divisible by 3\n",
      "345 is divisible by 3\n",
      "4  is not divisible by 3\n",
      "543 is divisible by 3\n",
      "64  is not divisible by 3\n",
      "34  is not divisible by 3\n"
     ]
    }
   ],
   "source": [
    "# Q6 Create a list containing 25 int type data. Using for loop and if else condition print if the element is divisible by 3 or not.\n",
    "list2 = [23,43,53,53,12,53,63,43,53,23,63,64,64,34,63,64,78,89,75,634,345,4,543,64,34]\n",
    "li = len(list2)\n",
    "print(\"number of elements in list = \",li)\n",
    "for i in list2:\n",
    "    if i%3==0:\n",
    "        print(i,\"is divisible by 3\")\n",
    "        continue;\n",
    "    else: \n",
    "        print(i,\" is not divisible by 3\")"
   ]
  },
  {
   "cell_type": "code",
   "execution_count": 22,
   "id": "863cc4f3-dc4d-45b0-980f-55b55727c645",
   "metadata": {},
   "outputs": [
    {
     "ename": "TypeError",
     "evalue": "'str' object does not support item assignment",
     "output_type": "error",
     "traceback": [
      "\u001b[0;31m---------------------------------------------------------------------------\u001b[0m",
      "\u001b[0;31mTypeError\u001b[0m                                 Traceback (most recent call last)",
      "Cell \u001b[0;32mIn[22], line 2\u001b[0m\n\u001b[1;32m      1\u001b[0m name \u001b[38;5;241m=\u001b[39m \u001b[38;5;124m\"\u001b[39m\u001b[38;5;124msanju\u001b[39m\u001b[38;5;124m\"\u001b[39m\n\u001b[0;32m----> 2\u001b[0m \u001b[43mname\u001b[49m\u001b[43m[\u001b[49m\u001b[38;5;241;43m0\u001b[39;49m\u001b[43m]\u001b[49m \u001b[38;5;241m=\u001b[39m\u001b[38;5;124m\"\u001b[39m\u001b[38;5;124m \u001b[39m\u001b[38;5;124m\"\u001b[39m\n",
      "\u001b[0;31mTypeError\u001b[0m: 'str' object does not support item assignment"
     ]
    }
   ],
   "source": [
    "# Q7 what do you understand by mutable and immutable data types ? \n",
    "name = \"sanju\"\n",
    "name[0] =\" \"\n"
   ]
  },
  {
   "cell_type": "code",
   "execution_count": 23,
   "id": "dd4dc6d4-48c0-486e-9709-e61c3d21f4da",
   "metadata": {},
   "outputs": [
    {
     "name": "stdout",
     "output_type": "stream",
     "text": [
      "[23, 343, 24, 34, 'ram']\n"
     ]
    }
   ],
   "source": [
    "l = [ 23,343,24,34,\"ram\"]\n",
    "print(l)"
   ]
  },
  {
   "cell_type": "code",
   "execution_count": 24,
   "id": "8fa8a2eb-0ef7-4bef-950f-662ed4f96db1",
   "metadata": {},
   "outputs": [
    {
     "name": "stdout",
     "output_type": "stream",
     "text": [
      "[23, 343, 24, '77572323737', 'ram']\n"
     ]
    }
   ],
   "source": [
    "l[3] = \"77572323737\"\n",
    "print(l)"
   ]
  },
  {
   "cell_type": "code",
   "execution_count": null,
   "id": "d7dca36a-b2a4-42cf-ba5a-ce664ee0a678",
   "metadata": {},
   "outputs": [],
   "source": [
    "#  We understand from our example we can assign a value in list but in string we are unable to assign value\n",
    "# in string . Hence string is immutable and list is mutable"
   ]
  }
 ],
 "metadata": {
  "kernelspec": {
   "display_name": "Python 3 (ipykernel)",
   "language": "python",
   "name": "python3"
  },
  "language_info": {
   "codemirror_mode": {
    "name": "ipython",
    "version": 3
   },
   "file_extension": ".py",
   "mimetype": "text/x-python",
   "name": "python",
   "nbconvert_exporter": "python",
   "pygments_lexer": "ipython3",
   "version": "3.10.8"
  }
 },
 "nbformat": 4,
 "nbformat_minor": 5
}
